{
    "nbformat_minor": 1, 
    "cells": [
        {
            "source": "# <center>Predicting best location for a restaurant in Toronto</center>\n### <center>Deborima Das Biswas</center>\n#### <center>April 2019</center>\n\n\n### 1.\tIntroduction \n\n#### 1.1\tBackground and Problem\n\nABC  group wants to start a restaurant in the City of Toronto. They want to analyze the type of restaurants in the different areas of the city and to predict the best location for opening Indian restaurant. Location plays an important role in opening a restaurant. They are interested to know which locality has minimum number of Indian restaurants so that their restaurant can attract more number of people. \n\n#### 1.2\t Data acquisition and cleaning\n\nI will scrape the Wikipedia page https://en.wikipedia.org/wiki/List_of_postal_codes_of_Canada:_M   for the neighbourhoods of the Toronto City.\nI will then clean the data and using the Foursquare, I will extract the details of the various restaurants in the area. The data will then be analyzed to find the location which has minimum number of Indian restaurants.\n", 
            "cell_type": "markdown", 
            "metadata": {
                "collapsed": true
            }
        }, 
        {
            "execution_count": null, 
            "cell_type": "code", 
            "metadata": {}, 
            "outputs": [], 
            "source": ""
        }
    ], 
    "metadata": {
        "kernelspec": {
            "display_name": "Python 3.5", 
            "name": "python3", 
            "language": "python"
        }, 
        "language_info": {
            "mimetype": "text/x-python", 
            "nbconvert_exporter": "python", 
            "version": "3.5.5", 
            "name": "python", 
            "file_extension": ".py", 
            "pygments_lexer": "ipython3", 
            "codemirror_mode": {
                "version": 3, 
                "name": "ipython"
            }
        }
    }, 
    "nbformat": 4
}